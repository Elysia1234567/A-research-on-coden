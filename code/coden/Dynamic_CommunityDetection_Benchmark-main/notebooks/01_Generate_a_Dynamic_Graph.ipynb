{
 "cells": [
  {
   "cell_type": "markdown",
   "metadata": {},
   "source": [
    "# Generate a Dynamic Graph\n",
    "In this notebook, we generate a dynamic graph based on a synthetic LFR graph, where we define the tranformation, the speed and the parameters of the initial graph.\n",
    "If your goal is to generate multiple graph copies for a statistical comparison of algorithms, consider instead the usage of `../experiments/01a_generate_graphs.py`.\n",
    "\n",
    "在这个笔记本中，我们基于合成的 LFR 图生成动态图，在其中定义初始图的变换、速度和参数。如果你的目标是生成多个图副本以对算法进行统计比较，那么不妨考虑使用 ../experiments/01a_generate_graphs.py 。"
   ]
  },
  {
   "cell_type": "code",
   "execution_count": 1,
   "metadata": {},
   "outputs": [
    {
     "name": "stdout",
     "output_type": "stream",
     "text": [
      "d:\\python\\Anaconda\\python.exe\n"
     ]
    }
   ],
   "source": [
    "import sys\n",
    "print(sys.executable)"
   ]
  },
  {
   "cell_type": "code",
   "execution_count": 3,
   "metadata": {},
   "outputs": [
    {
     "name": "stdout",
     "output_type": "stream",
     "text": [
      "Note: to be able to use all crisp methods, you need to install some additional packages:  {'wurlitzer', 'infomap', 'leidenalg', 'graph_tool', 'bayanpy'}\n",
      "Note: to be able to use all crisp methods, you need to install some additional packages:  {'ASLPAw', 'pyclustering'}\n",
      "Note: to be able to use all crisp methods, you need to install some additional packages:  {'wurlitzer', 'leidenalg', 'infomap'}\n"
     ]
    }
   ],
   "source": [
    "import sys\n",
    "sys.path.append('../')\n",
    "from src.simulation import GraphMovementSimulation\n",
    "import networkx as nx\n",
    "from tqdm import tqdm\n",
    "import os\n",
    "import pandas as pd"
   ]
  },
  {
   "cell_type": "markdown",
   "metadata": {},
   "source": [
    "Chose a transformation among those in the list:\n",
    "这个列表是社区动态演化中可用的社区变换操作，通常用于模拟动态网络中社区结构随时间的变化。每个变换操作对应一种特定的社区演化行为 \n",
    "- 'birth',                  （新生，在图中新增一个社区）\n",
    "- 'fragment',               （碎片化，将一个社区分裂成多个较小的子社区，但不会完全消失）\n",
    "- 'split',                  （分裂，将一个社区完全分裂成两个或多个独立的新社区）\n",
    "- 'merge',                  （合并，将两个或者多个社区合并成一个更大的社区）\n",
    "- 'add_nodes',              （新增节点，向图中添加新节点，并可能分配到现有社区或形成新社区）\n",
    "- 'intermittence_nodes',    （节点间歇性出现，某些节点在特定时间步出现或消失）\n",
    "- 'switch',                 （切换，节点从一个社区切换到另一个社区）\n",
    "- 'break_up_communities',   （社区瓦解，完全解散一个社区，其节点变成独立节点或加入其他社区）\n",
    "- 'remove_nodes'            （移除节点，从图中删除某些节点，可能导致社区结构变化）"
   ]
  },
  {
   "cell_type": "code",
   "execution_count": 4,
   "metadata": {},
   "outputs": [],
   "source": [
    "# 设置核心参数\n",
    "transformation='fragment'      #指定演化类型为碎片化\n",
    "TSS=50 # number of snapshots   #总时间步数（Total Snapshots）\n",
    "TIME_TO_TRANFORM = 30 # time of the transformation: it corresponds to the number of snapshots needed to complete the transformation\n",
    "                               #完成碎片化所需的时间步数\n",
    "assert TIME_TO_TRANFORM<TSS    #确保演化时间不超过总时间\n",
    "SPEED=1/TIME_TO_TRANFORM       #每个时间步的演化速度（渐进式变化），每步完成1/30的碎片化\n",
    "\n",
    "# select the initial number of nodes in the graph\n",
    "# 因为remove_nodes/edges操作会减少网络规模，因此初始节点数更大 \n",
    "if transformation in ['remove_nodes','remove_edges']: \n",
    "    n=3000  #如果是删除节点/边，初始图较大\n",
    "else: \n",
    "    n=1000  #其他情况（比如我们现在是碎片化操作）初始节点数设为1000\n",
    "\n",
    "\n",
    "n_changes=3 # number of communities affected from the morphing transformations\n",
    "            # 受演化影响的社区数量（现在是3个社区会逐渐碎片化）\n",
    "mu = .2 # LFR mixing parameter: how much the communities are mixed between 0 and 1\n",
    "        # You can also set the othe paramaters of the LFR benchmark in the initialization of GraphMovementSimulation\n",
    "        # LFR基准网络的混合参数 mu=0表示社区完全独立 mu=1表示社区完全混合 这里设置为0.2 表示社区间连接较少"
   ]
  },
  {
   "cell_type": "code",
   "execution_count": 5,
   "metadata": {},
   "outputs": [],
   "source": [
    "#generate the folder to store the data:\n",
    "#创建一个目录路径用于存储生成的动态社区演化数据，通过mu和transformation自动分类存储结果，便于后续分析不同参数下的演化结果\n",
    "directory_path=f'../results/graphs/mu0{int(mu*10)}/{transformation}/'\n",
    "if not os.path.exists(directory_path):\n",
    "    os.makedirs(directory_path)"
   ]
  },
  {
   "cell_type": "code",
   "execution_count": 6,
   "metadata": {},
   "outputs": [
    {
     "name": "stdout",
     "output_type": "stream",
     "text": [
      "Graph #0 -> Final seed: 4\n"
     ]
    }
   ],
   "source": [
    "gname=f'{transformation}_mu0{int(mu*10)}'  #生成图的名称模板\n",
    "i=0                                        #当前图的编号（从0开始)\n",
    "sim_count=0                                #失败重试计数器\n",
    "while True:\n",
    "    # sometimes the generation of the synthetic static graph fails due to the networkx implementation of the LFR static benchmark, so we need to repeat the generation till we find the right seed. \n",
    "    seed=i+sim_count                       #动态生成随机种子（避免重复）\n",
    "    try:\n",
    "        #尝试生成图并设置演化\n",
    "        sim = GraphMovementSimulation(n=n, mu=mu, gname=f'{gname}_{i}', seed=seed)\n",
    "        G = sim.setup_transformation(transformation, n_splits=n_changes, save=True)\n",
    "        break #成功则退出循环\n",
    "    except:\n",
    "        sim_count+=1 #失败则增加重试次数\n",
    "print(f'Graph #{i} -> Final seed: {seed}')\n",
    "#以上操作的目的是为了生成要给符合LFR基准的初始静态图，并应用指定的社区演化\n",
    "\n",
    "\n",
    "# Create the directory to store the graph:\n",
    "# 以下操作是保存每次成功生成图的随机种子，确保结果可复现\n",
    "if not os.path.exists(directory_path+ f'G{i:02}/'):\n",
    "    # If it doesn't exist, create the directory\n",
    "    os.makedirs(directory_path+ f'G{i:02}/')\n",
    "\n",
    "# Store seed information\n",
    "if os.path.exists(directory_path+'seeds.csv'):\n",
    "    f=open(directory_path+'seeds.csv','a')\n",
    "else:\n",
    "    f=open(directory_path+'seeds.csv','w')\n",
    "    f.write('num_graph,seed\\n')\n",
    "f.write(f'{i},{seed}\\n')\n",
    "f.close()\n",
    "\n"
   ]
  },
  {
   "cell_type": "code",
   "execution_count": 7,
   "metadata": {},
   "outputs": [
    {
     "name": "stderr",
     "output_type": "stream",
     "text": [
      "Processing fragment_mu02_0: 100%|██████████| 50/50 [00:16<00:00,  3.02it/s]\n"
     ]
    }
   ],
   "source": [
    "#run the transformation and \n",
    "#执行动态社区演化并保存真实社区标签\n",
    "_,GT=run=sim.run( G, N_Graph=i, delta=SPEED, transformation=transformation,timesteps=TSS,start_trans= 0, stop_trans= TSS)\n",
    "#返回值是字典，包含社区标签的初始状态和最终状态\n",
    "pd.DataFrame({'y_true_init':GT['y_true_init'],'y_true_final':GT[ 'y_true_final'] }).fillna('')\\\n",
    "                .to_csv(f'../results/graphs/mu0{int(mu*10)}/{transformation}/G{i:02}/GT.csv.gz',sep=',',index=True,index_label='Node_id')\n",
    "#将字典转换为DataFrame,然后保存到目录中，并压缩\n",
    "\n"
   ]
  },
  {
   "cell_type": "code",
   "execution_count": null,
   "metadata": {},
   "outputs": [],
   "source": []
  },
  {
   "cell_type": "code",
   "execution_count": null,
   "metadata": {},
   "outputs": [],
   "source": []
  }
 ],
 "metadata": {
  "kernelspec": {
   "display_name": "base",
   "language": "python",
   "name": "python3"
  },
  "language_info": {
   "codemirror_mode": {
    "name": "ipython",
    "version": 3
   },
   "file_extension": ".py",
   "mimetype": "text/x-python",
   "name": "python",
   "nbconvert_exporter": "python",
   "pygments_lexer": "ipython3",
   "version": "3.12.3"
  }
 },
 "nbformat": 4,
 "nbformat_minor": 2
}
